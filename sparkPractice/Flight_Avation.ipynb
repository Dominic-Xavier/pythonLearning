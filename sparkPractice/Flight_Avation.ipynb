{
 "cells": [
  {
   "cell_type": "code",
   "execution_count": 34,
   "metadata": {},
   "outputs": [],
   "source": [
    "from pyspark.sql import SparkSession\n",
    "\n",
    "spark = SparkSession.builder.appName(\"PySpark_Hadoop\")\\\n",
    ".master(\"local[*]\")\\\n",
    ".config(\"spark.cores.max\", 2) \\\n",
    ".config(\"spark.executor.cores\", 1)\\\n",
    ".config(\"spark.sql.autoBroadcastJoinThreshold\", \"-1\")\\\n",
    ".config(\"spark.sql.adaptive.enabled\", False)\\\n",
    ".config(\"spark.sql.adaptive.coalescePartitions.enabled\", False)\\\n",
    ".config(\"spark.sql.adaptive.skewJoin.enabled\", False)\\\n",
    ".config(\"spark.sql.catalogImplementation\", \"hive\")\\\n",
    ".getOrCreate()"
   ]
  },
  {
   "cell_type": "code",
   "execution_count": 33,
   "metadata": {},
   "outputs": [],
   "source": [
    "spark.stop()"
   ]
  },
  {
   "cell_type": "code",
   "execution_count": 48,
   "metadata": {},
   "outputs": [
    {
     "name": "stdout",
     "output_type": "stream",
     "text": [
      "+-------+-------+----------------+---------+-----------+------+---------+------+--------------+------------+-------+---------------+---------------+----------------+-----------------+------------------+\n",
      "|Loyalty|Country|        Province|     City|Postal Code|Gender|Education|Salary|Marital Status|Loyalty Card|    CLV|Enrollment Type|Enrollment Year|Enrollment Month|Cancellation Year|Cancellation Month|\n",
      "+-------+-------+----------------+---------+-----------+------+---------+------+--------------+------------+-------+---------------+---------------+----------------+-----------------+------------------+\n",
      "| 480934| Canada|         Ontario|  Toronto|    M2Z 4K1|Female| Bachelor| 83236|       Married|        Star|3839.14|       Standard|           2016|               2|             NULL|              NULL|\n",
      "| 549612| Canada|         Alberta| Edmonton|    T3G 6Y6|  Male|  College|  NULL|      Divorced|        Star|3839.61|       Standard|           2016|               3|             NULL|              NULL|\n",
      "| 429460| Canada|British Columbia|Vancouver|    V6E 3D9|  Male|  College|  NULL|        Single|        Star|3839.75|       Standard|           2014|               7|             2018|                 1|\n",
      "| 608370| Canada|         Ontario|  Toronto|    P1W 1K4|  Male|  College|  NULL|        Single|        Star|3839.75|       Standard|           2013|               2|             NULL|              NULL|\n",
      "| 530508| Canada|          Quebec|     Hull|    J8Y 3Z5|  Male| Bachelor|103495|       Married|        Star|3842.79|       Standard|           2014|              10|             NULL|              NULL|\n",
      "+-------+-------+----------------+---------+-----------+------+---------+------+--------------+------------+-------+---------------+---------------+----------------+-----------------+------------------+\n",
      "only showing top 5 rows\n",
      "\n",
      "+--------------+----+-----+--------------+-----------------------+-------------+--------+------------------+---------------+---------------------------+\n",
      "|Loyalty_Number|Year|Month|Flights Booked|Flights with Companions|Total Flights|Distance|Points Accumulated|Points Redeemed|Dollar Cost Points Redeemed|\n",
      "+--------------+----+-----+--------------+-----------------------+-------------+--------+------------------+---------------+---------------------------+\n",
      "|        100018|2017|    1|             3|                      0|            3|    1521|             152.0|              0|                          0|\n",
      "|        100102|2017|    1|            10|                      4|           14|    2030|             203.0|              0|                          0|\n",
      "|        100140|2017|    1|             6|                      0|            6|    1200|             120.0|              0|                          0|\n",
      "|        100214|2017|    1|             0|                      0|            0|       0|               0.0|              0|                          0|\n",
      "|        100272|2017|    1|             0|                      0|            0|       0|               0.0|              0|                          0|\n",
      "+--------------+----+-----+--------------+-----------------------+-------------+--------+------------------+---------------+---------------------------+\n",
      "only showing top 5 rows\n",
      "\n"
     ]
    }
   ],
   "source": [
    "customer_data = spark.read.csv(\"file:///home/dominic/Desktop/pythonLearning/csvFiles/practice_Data/Interview_Preparation/Flight_Data/Customer Loyalty History.csv\", header=True, inferSchema=True)\n",
    "customer_data = customer_data.withColumnRenamed(\"Loyalty Number\", \"Loyalty\")\n",
    "customer_data.createOrReplaceTempView(\"customer_data\")\n",
    "\n",
    "\n",
    "flight_data = spark.read.csv(\"file:///home/dominic/Desktop/pythonLearning/csvFiles/practice_Data/Interview_Preparation/Flight_Data/Customer Flight Activity.csv\", header=True, inferSchema=True)\n",
    "flight_data = flight_data.withColumnRenamed(\"Loyalty Number\", \"Loyalty_Number\")\n",
    "flight_data.createOrReplaceTempView(\"flight_data\")\n",
    "\n",
    "customer_data.show(5)\n",
    "flight_data.show(5)"
   ]
  },
  {
   "cell_type": "code",
   "execution_count": 35,
   "metadata": {},
   "outputs": [
    {
     "name": "stdout",
     "output_type": "stream",
     "text": [
      "+---------+\n",
      "|namespace|\n",
      "+---------+\n",
      "|  default|\n",
      "+---------+\n",
      "\n",
      "+---------+--------------------+-----------+\n",
      "|namespace|           tableName|isTemporary|\n",
      "+---------+--------------------+-----------+\n",
      "|  default|customer_flight_data|      false|\n",
      "|  default|customer_flight_d...|      false|\n",
      "+---------+--------------------+-----------+\n",
      "\n"
     ]
    },
    {
     "name": "stderr",
     "output_type": "stream",
     "text": [
      "25/07/17 00:57:18 WARN ObjectStore: Failed to get database global_temp, returning NoSuchObjectException\n"
     ]
    }
   ],
   "source": [
    "spark.conf.get(\"spark.sql.catalogImplementation\")\n",
    "spark.sql(\"show databases\").show()\n",
    "spark.sql(\"use default\")\n",
    "spark.sql(\"show tables\").show()\n"
   ]
  },
  {
   "cell_type": "code",
   "execution_count": 36,
   "metadata": {},
   "outputs": [
    {
     "name": "stdout",
     "output_type": "stream",
     "text": [
      "root\n",
      " |-- Loyalty: integer (nullable = true)\n",
      " |-- Country: string (nullable = true)\n",
      " |-- Province: string (nullable = true)\n",
      " |-- City: string (nullable = true)\n",
      " |-- Postal Code: string (nullable = true)\n",
      " |-- Gender: string (nullable = true)\n",
      " |-- Education: string (nullable = true)\n",
      " |-- Salary: integer (nullable = true)\n",
      " |-- Marital Status: string (nullable = true)\n",
      " |-- Loyalty Card: string (nullable = true)\n",
      " |-- CLV: double (nullable = true)\n",
      " |-- Enrollment Type: string (nullable = true)\n",
      " |-- Enrollment Year: integer (nullable = true)\n",
      " |-- Enrollment Month: integer (nullable = true)\n",
      " |-- Cancellation Year: integer (nullable = true)\n",
      " |-- Cancellation Month: integer (nullable = true)\n",
      " |-- Year: integer (nullable = true)\n",
      " |-- Month: integer (nullable = true)\n",
      " |-- Flights Booked: integer (nullable = true)\n",
      " |-- Flights with Companions: integer (nullable = true)\n",
      " |-- Total Flights: integer (nullable = true)\n",
      " |-- Distance: integer (nullable = true)\n",
      " |-- Points Accumulated: double (nullable = true)\n",
      " |-- Points Redeemed: integer (nullable = true)\n",
      " |-- Dollar Cost Points Redeemed: integer (nullable = true)\n",
      "\n"
     ]
    }
   ],
   "source": [
    "# Load the data into a DataFrame\n",
    "customer_flight_data = spark.read.table(\"customer_flight_data\")\n",
    "\n",
    "# Drop the column `Loyalty_Number`\n",
    "customer_flight_data = customer_flight_data.drop(\"Loyalty_Number\")\n",
    "customer_flight_data.printSchema()"
   ]
  },
  {
   "cell_type": "code",
   "execution_count": 37,
   "metadata": {},
   "outputs": [
    {
     "name": "stderr",
     "output_type": "stream",
     "text": [
      "[Stage 1:=================================================>     (180 + 4) / 200]\r"
     ]
    },
    {
     "name": "stdout",
     "output_type": "stream",
     "text": [
      "+----+-----+--------------+\n",
      "|Year|Month|Total_Bookings|\n",
      "+----+-----+--------------+\n",
      "|2017|    1|         47766|\n",
      "|2017|    2|         47691|\n",
      "|2017|    3|         64271|\n",
      "|2017|    4|         55720|\n",
      "|2017|    5|         65279|\n",
      "|2017|    6|         80493|\n",
      "|2017|    7|         89288|\n",
      "|2017|    8|         78692|\n",
      "|2017|    9|         63304|\n",
      "|2017|   10|         60351|\n",
      "|2017|   11|         56905|\n",
      "|2017|   12|         77650|\n",
      "|2018|    1|         49170|\n",
      "|2018|    2|         48643|\n",
      "|2018|    3|         66928|\n",
      "|2018|    4|         56791|\n",
      "|2018|    5|         76891|\n",
      "|2018|    6|         92749|\n",
      "|2018|    7|        104143|\n",
      "|2018|    8|         90512|\n",
      "+----+-----+--------------+\n",
      "only showing top 20 rows\n",
      "\n"
     ]
    },
    {
     "name": "stderr",
     "output_type": "stream",
     "text": [
      "                                                                                \r"
     ]
    }
   ],
   "source": [
    "from pyspark.sql.functions import sum\n",
    "\n",
    "monthly_bookings = customer_flight_data.groupBy(\"Year\", \"Month\") \\\n",
    "    .agg(sum(\"Flights Booked\").alias(\"Total_Bookings\")) \\\n",
    "    .orderBy(\"Year\", \"Month\")\n",
    "\n",
    "monthly_bookings.show()"
   ]
  },
  {
   "cell_type": "code",
   "execution_count": 38,
   "metadata": {},
   "outputs": [
    {
     "name": "stderr",
     "output_type": "stream",
     "text": [
      "                                                                                \r"
     ]
    },
    {
     "name": "stdout",
     "output_type": "stream",
     "text": [
      "Total Count: 11560\n"
     ]
    },
    {
     "name": "stderr",
     "output_type": "stream",
     "text": [
      "[Stage 6:===============================================>       (174 + 7) / 200]\r"
     ]
    },
    {
     "name": "stdout",
     "output_type": "stream",
     "text": [
      "+-------+--------------+--------------+-------------+---------------------+\n",
      "|Loyalty|Total_Bookings|Total_Distance|Points_Earned|Total_Points_Redeemed|\n",
      "+-------+--------------+--------------+-------------+---------------------+\n",
      "| 279883|             1|          1618|        161.0|                  349|\n",
      "| 756663|             1|          2498|        249.0|                  453|\n",
      "| 999891|             1|          2526|        252.0|                  414|\n",
      "| 680485|             1|          1764|        176.0|                  463|\n",
      "| 688731|             1|          2254|        225.0|                  590|\n",
      "| 633162|             2|          3192|        319.0|                  511|\n",
      "| 201055|             2|          1668|        166.0|                  484|\n",
      "| 969719|             3|          1038|        103.0|                  536|\n",
      "| 604436|             3|          1656|        165.0|                  350|\n",
      "| 174669|             3|          1227|        122.0|                  539|\n",
      "| 226804|             3|          1218|        121.0|                  552|\n",
      "| 667356|             3|          2022|        202.0|                  358|\n",
      "| 457605|             3|          1860|        186.0|                  363|\n",
      "| 840659|             4|          5596|        559.0|                  426|\n",
      "| 805902|             4|          2816|        281.0|                  351|\n",
      "| 515579|             4|          1968|        196.0|                  425|\n",
      "| 879416|             4|          1176|        117.0|                  589|\n",
      "| 517262|             4|          2350|        235.0|                  473|\n",
      "| 212695|             5|          3374|        337.0|                  541|\n",
      "| 354206|             5|          1850|        185.0|                  395|\n",
      "+-------+--------------+--------------+-------------+---------------------+\n",
      "only showing top 20 rows\n",
      "\n"
     ]
    },
    {
     "name": "stderr",
     "output_type": "stream",
     "text": [
      "                                                                                \r"
     ]
    }
   ],
   "source": [
    "from pyspark.sql.functions import sum\n",
    "\n",
    "totalBookings = customer_flight_data.groupBy(\"Loyalty\") \\\n",
    "    .agg(sum(\"Flights Booked\").alias(\"Total_Bookings\"),\n",
    "         sum(\"Distance\").alias(\"Total_Distance\"),\n",
    "         sum(\"Points Accumulated\").alias(\"Points_Earned\"),\n",
    "         sum(\"Points Redeemed\").alias(\"Total_Points_Redeemed\")) \\\n",
    "    .orderBy(\"Total_Bookings\", ascending=True)\n",
    "\n",
    "totalBookings = totalBookings.filter(totalBookings[\"Total_Bookings\"] > 0)\\\n",
    "    .filter(totalBookings[\"Total_Points_Redeemed\"] > 0)\n",
    "\n",
    "print(\"Total Count: \"+str(totalBookings.count()))\n",
    "\n",
    "totalBookings.show()\n"
   ]
  },
  {
   "cell_type": "code",
   "execution_count": 39,
   "metadata": {},
   "outputs": [
    {
     "name": "stdout",
     "output_type": "stream",
     "text": [
      "Correlation between flight_distance and points_earned: 0.9945637211531365\n"
     ]
    }
   ],
   "source": [
    "correlation = customer_flight_data.stat.corr(\"Distance\", \"Points Accumulated\")\n",
    "print(f\"Correlation between flight_distance and points_earned: {correlation}\")\n"
   ]
  },
  {
   "cell_type": "code",
   "execution_count": 44,
   "metadata": {},
   "outputs": [
    {
     "name": "stdout",
     "output_type": "stream",
     "text": [
      "root\n",
      " |-- Loyalty: integer (nullable = true)\n",
      " |-- Country: string (nullable = true)\n",
      " |-- Province: string (nullable = true)\n",
      " |-- City: string (nullable = true)\n",
      " |-- Postal Code: string (nullable = true)\n",
      " |-- Gender: string (nullable = true)\n",
      " |-- Education: string (nullable = true)\n",
      " |-- Salary: integer (nullable = true)\n",
      " |-- Marital Status: string (nullable = true)\n",
      " |-- Loyalty Card: string (nullable = true)\n",
      " |-- CLV: double (nullable = true)\n",
      " |-- Enrollment Type: string (nullable = true)\n",
      " |-- Enrollment Year: integer (nullable = true)\n",
      " |-- Enrollment Month: integer (nullable = true)\n",
      " |-- Cancellation Year: integer (nullable = true)\n",
      " |-- Cancellation Month: integer (nullable = true)\n",
      " |-- Year: integer (nullable = true)\n",
      " |-- Month: integer (nullable = true)\n",
      " |-- Flights Booked: integer (nullable = true)\n",
      " |-- Flights with Companions: integer (nullable = true)\n",
      " |-- Total Flights: integer (nullable = true)\n",
      " |-- Distance: integer (nullable = true)\n",
      " |-- Points Accumulated: double (nullable = true)\n",
      " |-- Points Redeemed: integer (nullable = true)\n",
      " |-- Dollar Cost Points Redeemed: integer (nullable = true)\n",
      "\n",
      "+-------+-------+--------+-------+-----------+------+---------+------+--------------+------------+------+---------------+---------------+----------------+-----------------+------------------+----+-----+--------------+-----------------------+-------------+--------+------------------+---------------+---------------------------+\n",
      "|Loyalty|Country|Province|   City|Postal Code|Gender|Education|Salary|Marital Status|Loyalty Card|   CLV|Enrollment Type|Enrollment Year|Enrollment Month|Cancellation Year|Cancellation Month|Year|Month|Flights Booked|Flights with Companions|Total Flights|Distance|Points Accumulated|Points Redeemed|Dollar Cost Points Redeemed|\n",
      "+-------+-------+--------+-------+-----------+------+---------+------+--------------+------------+------+---------------+---------------+----------------+-----------------+------------------+----+-----+--------------+-----------------------+-------------+--------+------------------+---------------+---------------------------+\n",
      "| 102168| Canada| Ontario|Toronto|    P5S 6R4|Female| Bachelor| 75265|      Divorced|        Nova|   0.0|       Standard|           2018|               1|             NULL|              NULL|2017|    1|             0|                      0|            0|       0|               0.0|              0|                          0|\n",
      "| 102168| Canada| Ontario|Toronto|    P5S 6R4|Female| Bachelor| 75265|      Divorced|        Nova|   0.0|       Standard|           2018|               1|             NULL|              NULL|2017|    2|             0|                      0|            0|       0|               0.0|              0|                          0|\n",
      "| 102168| Canada| Ontario|Toronto|    P5S 6R4|Female| Bachelor| 75265|      Divorced|        Nova|   0.0|       Standard|           2018|               1|             NULL|              NULL|2017|    3|             0|                      0|            0|       0|               0.0|              0|                          0|\n",
      "| 102168| Canada| Ontario|Toronto|    P5S 6R4|Female| Bachelor| 75265|      Divorced|        Nova|   0.0|       Standard|           2018|               1|             NULL|              NULL|2017|    4|             0|                      0|            0|       0|               0.0|              0|                          0|\n",
      "| 102168| Canada| Ontario|Toronto|    P5S 6R4|Female| Bachelor| 75265|      Divorced|        Nova|   0.0|       Standard|           2018|               1|             NULL|              NULL|2017|    5|             0|                      0|            0|       0|               0.0|              0|                          0|\n",
      "| 102168| Canada| Ontario|Toronto|    P5S 6R4|Female| Bachelor| 75265|      Divorced|        Nova|   0.0|       Standard|           2018|               1|             NULL|              NULL|2017|    6|             0|                      0|            0|       0|               0.0|              0|                          0|\n",
      "| 102168| Canada| Ontario|Toronto|    P5S 6R4|Female| Bachelor| 75265|      Divorced|        Nova|   0.0|       Standard|           2018|               1|             NULL|              NULL|2017|    7|             0|                      0|            0|       0|               0.0|              0|                          0|\n",
      "| 102168| Canada| Ontario|Toronto|    P5S 6R4|Female| Bachelor| 75265|      Divorced|        Nova|   0.0|       Standard|           2018|               1|             NULL|              NULL|2017|    8|             0|                      0|            0|       0|               0.0|              0|                          0|\n",
      "| 102168| Canada| Ontario|Toronto|    P5S 6R4|Female| Bachelor| 75265|      Divorced|        Nova|   0.0|       Standard|           2018|               1|             NULL|              NULL|2017|    9|             0|                      0|            0|       0|               0.0|              0|                          0|\n",
      "| 102168| Canada| Ontario|Toronto|    P5S 6R4|Female| Bachelor| 75265|      Divorced|        Nova|   0.0|       Standard|           2018|               1|             NULL|              NULL|2017|   10|             0|                      0|            0|       0|               0.0|              0|                          0|\n",
      "| 102168| Canada| Ontario|Toronto|    P5S 6R4|Female| Bachelor| 75265|      Divorced|        Nova|   0.0|       Standard|           2018|               1|             NULL|              NULL|2017|   11|             0|                      0|            0|       0|               0.0|              0|                          0|\n",
      "| 102168| Canada| Ontario|Toronto|    P5S 6R4|Female| Bachelor| 75265|      Divorced|        Nova|   0.0|       Standard|           2018|               1|             NULL|              NULL|2017|   12|             0|                      0|            0|       0|               0.0|              0|                          0|\n",
      "| 102168| Canada| Ontario|Toronto|    P5S 6R4|Female| Bachelor| 75265|      Divorced|        Nova|   0.0|       Standard|           2018|               1|             NULL|              NULL|2018|    1|             0|                      0|            0|       0|               0.0|              0|                          0|\n",
      "| 102168| Canada| Ontario|Toronto|    P5S 6R4|Female| Bachelor| 75265|      Divorced|        Nova|   0.0|       Standard|           2018|               1|             NULL|              NULL|2018|    2|             0|                      0|            0|       0|               0.0|              0|                          0|\n",
      "| 102168| Canada| Ontario|Toronto|    P5S 6R4|Female| Bachelor| 75265|      Divorced|        Nova|141.25|       Standard|           2018|               1|             NULL|              NULL|2018|    4|             2|                      2|            4|    1132|            141.25|              0|                          0|\n",
      "| 102168| Canada| Ontario|Toronto|    P5S 6R4|Female| Bachelor| 75265|      Divorced|        Nova|168.75|       Standard|           2018|               1|             NULL|              NULL|2018|    3|             3|                      0|            3|    1356|            168.75|              0|                          0|\n",
      "| 102168| Canada| Ontario|Toronto|    P5S 6R4|Female| Bachelor| 75265|      Divorced|        Nova| 246.0|       Standard|           2018|               1|             NULL|              NULL|2018|    5|             9|                      2|           11|    2464|             246.0|              0|                          0|\n",
      "| 102168| Canada| Ontario|Toronto|    P5S 6R4|Female| Bachelor| 75265|      Divorced|        Nova| 503.0|       Standard|           2018|               1|             NULL|              NULL|2018|    6|            18|                      5|           23|    5037|             503.0|              0|                          0|\n",
      "| 102168| Canada| Ontario|Toronto|    P5S 6R4|Female| Bachelor| 75265|      Divorced|        Nova| 326.0|       Standard|           2018|               1|             NULL|              NULL|2018|    7|            19|                      0|           19|    3268|             326.0|              0|                          0|\n",
      "| 102168| Canada| Ontario|Toronto|    P5S 6R4|Female| Bachelor| 75265|      Divorced|        Nova| 122.0|       Standard|           2018|               1|             NULL|              NULL|2018|    8|             6|                      0|            6|    1224|             122.0|              0|                          0|\n",
      "+-------+-------+--------+-------+-----------+------+---------+------+--------------+------------+------+---------------+---------------+----------------+-----------------+------------------+----+-----+--------------+-----------------------+-------------+--------+------------------+---------------+---------------------------+\n",
      "only showing top 20 rows\n",
      "\n"
     ]
    }
   ],
   "source": [
    "from pyspark.sql.functions import col\n",
    "\n",
    "customer_flight_data_temp = customer_flight_data.withColumn(\n",
    "    \"CLV\", \n",
    "    col(\"Points Accumulated\") - col(\"Points Redeemed\")\n",
    ")\n",
    "customer_flight_data_temp.printSchema()\n",
    "customer_flight_data_temp.show()\n",
    "\n"
   ]
  },
  {
   "cell_type": "code",
   "execution_count": 49,
   "metadata": {},
   "outputs": [
    {
     "name": "stdout",
     "output_type": "stream",
     "text": [
      "+------------+-------------+\n",
      "|Loyalty Card|Total_Flights|\n",
      "+------------+-------------+\n",
      "|      Aurora|       431482|\n",
      "|        Nova|       706167|\n",
      "|        Star|       950040|\n",
      "+------------+-------------+\n",
      "\n"
     ]
    },
    {
     "name": "stderr",
     "output_type": "stream",
     "text": [
      "                                                                                \r"
     ]
    }
   ],
   "source": [
    "customer_flight_data_temp.groupBy(\"Loyalty Card\") \\\n",
    "    .agg(\n",
    "        sum(\"Total Flights\").alias(\"Total_Flights\")\n",
    "    ).orderBy(\"Total_Flights\", ascending=True).show()"
   ]
  },
  {
   "cell_type": "code",
   "execution_count": 52,
   "metadata": {},
   "outputs": [
    {
     "name": "stdout",
     "output_type": "stream",
     "text": [
      "+------------+------+-------------------+\n",
      "|Loyalty Card|gender|count(Loyalty Card)|\n",
      "+------------+------+-------------------+\n",
      "|        Star|  Male|              92376|\n",
      "|        Star|Female|              91848|\n",
      "|        Nova|Female|              69984|\n",
      "|        Nova|  Male|              67584|\n",
      "|      Aurora|  Male|              42024|\n",
      "|      Aurora|Female|              41808|\n",
      "+------------+------+-------------------+\n",
      "\n"
     ]
    },
    {
     "name": "stderr",
     "output_type": "stream",
     "text": [
      "                                                                                \r"
     ]
    }
   ],
   "source": [
    "from pyspark.sql.functions import count\n",
    "\n",
    "customer_flight_data_temp.groupBy(\"Loyalty Card\", \"gender\") \\\n",
    "    .agg(\n",
    "        count(\"Loyalty Card\")\n",
    "    ).select(\"Loyalty Card\", \"gender\", \"count(Loyalty Card)\") \\\n",
    "    .orderBy(\"count(Loyalty Card)\", ascending=False) \\\n",
    "    .show()"
   ]
  },
  {
   "cell_type": "code",
   "execution_count": null,
   "metadata": {},
   "outputs": [],
   "source": []
  },
  {
   "cell_type": "code",
   "execution_count": null,
   "metadata": {},
   "outputs": [],
   "source": []
  }
 ],
 "metadata": {
  "kernelspec": {
   "display_name": "Python 3",
   "language": "python",
   "name": "python3"
  },
  "language_info": {
   "codemirror_mode": {
    "name": "ipython",
    "version": 3
   },
   "file_extension": ".py",
   "mimetype": "text/x-python",
   "name": "python",
   "nbconvert_exporter": "python",
   "pygments_lexer": "ipython3",
   "version": "3.10.12"
  }
 },
 "nbformat": 4,
 "nbformat_minor": 2
}
