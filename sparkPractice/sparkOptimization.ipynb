{
 "cells": [
  {
   "cell_type": "code",
   "execution_count": null,
   "metadata": {},
   "outputs": [],
   "source": [
    "from pyspark.sql import SparkSession\n",
    "\n",
    "spark = SparkSession.builder.appName(\"PySpark_Hadoop\")\\\n",
    ".master(\"local[*]\")\\\n",
    ".config(\"spark.sql.autoBroadcastJoinThreshold\", \"-1\")\\\n",
    ".config(\"spark.sql.adaptive.enabled\", False)\\\n",
    ".config(\"spark.sql.adaptive.coalescePartitions.enabled\", False)\\\n",
    ".config(\"spark.sql.adaptive.skewJoin.enabled\", False)\\\n",
    ".getOrCreate()"
   ]
  },
  {
   "cell_type": "code",
   "execution_count": 150,
   "metadata": {},
   "outputs": [],
   "source": [
    "spark.conf.set(\"spark.sql.adaptive.enabled\", False)\n",
    "spark.conf.set(\"spark.sql.adaptive.coalescePartitions.enabled\", False)\n",
    "spark.conf.set(\"spark.sql.autoBroadcastJoinThreshold\", -1)"
   ]
  },
  {
   "cell_type": "code",
   "execution_count": 154,
   "metadata": {},
   "outputs": [
    {
     "name": "stdout",
     "output_type": "stream",
     "text": [
      "Spark Session stopped successfully.\n"
     ]
    }
   ],
   "source": [
    "spark.stop()\n",
    "print(\"Spark Session stopped successfully.\")"
   ]
  },
  {
   "cell_type": "code",
   "execution_count": 156,
   "metadata": {},
   "outputs": [
    {
     "name": "stdout",
     "output_type": "stream",
     "text": [
      "Customers DataFrame\n",
      "Sales DataFrame\n",
      "Product DataFrame\n"
     ]
    },
    {
     "data": {
      "text/plain": [
       "DataFrame[product_id: string, product_name: string, category: string]"
      ]
     },
     "execution_count": 156,
     "metadata": {},
     "output_type": "execute_result"
    }
   ],
   "source": [
    "print(\"Customers DataFrame\")\n",
    "customer_df = spark.read.csv(\"file:////home/dominic/Desktop/pythonLearning/csvFiles/practice_Data/customers.csv\", header=True, inferSchema=False)\n",
    "customer_df = customer_df.repartition(4)\n",
    "\n",
    "print(\"Sales DataFrame\")\n",
    "sales_df = spark.read.csv(\"file:////home/dominic/Desktop/pythonLearning/csvFiles/practice_Data/sales.csv\", header=True, inferSchema=False)\n",
    "sales_df = sales_df.repartition(4)\n",
    "\n",
    "print(\"Product DataFrame\")\n",
    "products_df = spark.read.csv(\"file:////home/dominic/Desktop/pythonLearning/csvFiles/practice_Data/products.csv\", header=True, inferSchema=False)\n",
    "products_df.repartition(4)"
   ]
  },
  {
   "cell_type": "code",
   "execution_count": 157,
   "metadata": {},
   "outputs": [],
   "source": [
    "sales_df_clean = sales_df.drop(\"region\").withColumnRenamed(\"customer_id\", \"customer_sales_id\") \\\n",
    ".withColumnRenamed(\"product_id\", \"product_sales_id\")\n",
    "sales_df_clean = sales_df_clean.repartition(4)"
   ]
  },
  {
   "cell_type": "code",
   "execution_count": 158,
   "metadata": {},
   "outputs": [
    {
     "name": "stdout",
     "output_type": "stream",
     "text": [
      "Joined DataFrame\n"
     ]
    },
    {
     "name": "stderr",
     "output_type": "stream",
     "text": [
      "                                                                                \r"
     ]
    }
   ],
   "source": [
    "from pyspark.sql.functions import col\n",
    "\n",
    "# Explicitly repartition each DF on its own join key\n",
    "sales_df_clean = sales_df_clean.repartition(4, col(\"product_sales_id\"))\n",
    "products_df = products_df.repartition(4, col(\"product_id\"))\n",
    "\n",
    "# Now join — this causes shuffle because Spark needs to align keys\n",
    "#joined_df = sales_df_clean.join(products_df, sales_df_clean.product_sales_id == products_df.product_id, \"inner\")\n",
    "\n",
    "\n",
    "joined_df = sales_df_clean.join(products_df, sales_df_clean.product_sales_id == products_df.product_id, \"inner\")\\\n",
    "    .join(customer_df, sales_df_clean.customer_sales_id == customer_df.customer_id, \"inner\")\n",
    "\n",
    "print(\"Joined DataFrame\")\n",
    "\n",
    "joined_df = joined_df.repartition(4)\n",
    "joined_df = joined_df.withColumn(\"TotalCost\", col(\"unit_price\") * col(\"quantity\"))\n",
    "#joined_df.groupBy(\"region\").count().show()\n",
    "joined_df.write.mode(\"overwrite\").parquet(\"file:////home/dominic/Desktop/pythonLearning/csvFiles/practice_Data/joined_data.parquet\")"
   ]
  },
  {
   "cell_type": "code",
   "execution_count": 120,
   "metadata": {},
   "outputs": [
    {
     "name": "stdout",
     "output_type": "stream",
     "text": [
      "== Parsed Logical Plan ==\n",
      "'Project [order_id#5585, order_date#5586, customer_sales_id#6880, product_sales_id#6887, quantity#5589, unit_price#5590, product_id#5616, product_name#5617, category#5618, customer_id#5562, customer_name#5563, region#5564, ('unit_price * 'quantity) AS TotalCost#6936]\n",
      "+- Repartition 4, true\n",
      "   +- Join Inner, (customer_sales_id#6880 = customer_id#5562)\n",
      "      :- Join Inner, (product_sales_id#6887 = product_id#5616)\n",
      "      :  :- RepartitionByExpression [product_sales_id#6887], 4\n",
      "      :  :  +- Repartition 4, true\n",
      "      :  :     +- Project [order_id#5585, order_date#5586, customer_sales_id#6880, product_id#5588 AS product_sales_id#6887, quantity#5589, unit_price#5590]\n",
      "      :  :        +- Project [order_id#5585, order_date#5586, customer_id#5587 AS customer_sales_id#6880, product_id#5588, quantity#5589, unit_price#5590]\n",
      "      :  :           +- Project [order_id#5585, order_date#5586, customer_id#5587, product_id#5588, quantity#5589, unit_price#5590]\n",
      "      :  :              +- Repartition 4, true\n",
      "      :  :                 +- Relation [order_id#5585,order_date#5586,customer_id#5587,product_id#5588,quantity#5589,unit_price#5590,region#5591] csv\n",
      "      :  +- RepartitionByExpression [product_id#5616], 4\n",
      "      :     +- RepartitionByExpression [product_id#5616], 4\n",
      "      :        +- RepartitionByExpression [product_id#5616], 4\n",
      "      :           +- RepartitionByExpression [product_id#5616], 4\n",
      "      :              +- RepartitionByExpression [product_id#5616], 4\n",
      "      :                 +- RepartitionByExpression [product_id#5616], 4\n",
      "      :                    +- RepartitionByExpression [product_id#5616], 4\n",
      "      :                       +- RepartitionByExpression [product_id#5616], 4\n",
      "      :                          +- Relation [product_id#5616,product_name#5617,category#5618] csv\n",
      "      +- Repartition 4, true\n",
      "         +- Relation [customer_id#5562,customer_name#5563,region#5564] csv\n",
      "\n",
      "== Analyzed Logical Plan ==\n",
      "order_id: string, order_date: string, customer_sales_id: string, product_sales_id: string, quantity: string, unit_price: string, product_id: string, product_name: string, category: string, customer_id: string, customer_name: string, region: string, TotalCost: double\n",
      "Project [order_id#5585, order_date#5586, customer_sales_id#6880, product_sales_id#6887, quantity#5589, unit_price#5590, product_id#5616, product_name#5617, category#5618, customer_id#5562, customer_name#5563, region#5564, (cast(unit_price#5590 as double) * cast(quantity#5589 as double)) AS TotalCost#6936]\n",
      "+- Repartition 4, true\n",
      "   +- Join Inner, (customer_sales_id#6880 = customer_id#5562)\n",
      "      :- Join Inner, (product_sales_id#6887 = product_id#5616)\n",
      "      :  :- RepartitionByExpression [product_sales_id#6887], 4\n",
      "      :  :  +- Repartition 4, true\n",
      "      :  :     +- Project [order_id#5585, order_date#5586, customer_sales_id#6880, product_id#5588 AS product_sales_id#6887, quantity#5589, unit_price#5590]\n",
      "      :  :        +- Project [order_id#5585, order_date#5586, customer_id#5587 AS customer_sales_id#6880, product_id#5588, quantity#5589, unit_price#5590]\n",
      "      :  :           +- Project [order_id#5585, order_date#5586, customer_id#5587, product_id#5588, quantity#5589, unit_price#5590]\n",
      "      :  :              +- Repartition 4, true\n",
      "      :  :                 +- Relation [order_id#5585,order_date#5586,customer_id#5587,product_id#5588,quantity#5589,unit_price#5590,region#5591] csv\n",
      "      :  +- RepartitionByExpression [product_id#5616], 4\n",
      "      :     +- RepartitionByExpression [product_id#5616], 4\n",
      "      :        +- RepartitionByExpression [product_id#5616], 4\n",
      "      :           +- RepartitionByExpression [product_id#5616], 4\n",
      "      :              +- RepartitionByExpression [product_id#5616], 4\n",
      "      :                 +- RepartitionByExpression [product_id#5616], 4\n",
      "      :                    +- RepartitionByExpression [product_id#5616], 4\n",
      "      :                       +- RepartitionByExpression [product_id#5616], 4\n",
      "      :                          +- Relation [product_id#5616,product_name#5617,category#5618] csv\n",
      "      +- Repartition 4, true\n",
      "         +- Relation [customer_id#5562,customer_name#5563,region#5564] csv\n",
      "\n",
      "== Optimized Logical Plan ==\n",
      "Project [order_id#5585, order_date#5586, customer_sales_id#6880, product_sales_id#6887, quantity#5589, unit_price#5590, product_id#5616, product_name#5617, category#5618, customer_id#5562, customer_name#5563, region#5564, (cast(unit_price#5590 as double) * cast(quantity#5589 as double)) AS TotalCost#6936]\n",
      "+- Repartition 4, true\n",
      "   +- Join Inner, (customer_sales_id#6880 = customer_id#5562)\n",
      "      :- Join Inner, (product_sales_id#6887 = product_id#5616)\n",
      "      :  :- RepartitionByExpression [product_sales_id#6887], 4\n",
      "      :  :  +- Project [order_id#5585, order_date#5586, customer_sales_id#6880, product_id#5588 AS product_sales_id#6887, quantity#5589, unit_price#5590]\n",
      "      :  :     +- Repartition 4, true\n",
      "      :  :        +- Project [order_id#5585, order_date#5586, customer_id#5587 AS customer_sales_id#6880, product_id#5588, quantity#5589, unit_price#5590]\n",
      "      :  :           +- Filter (isnotnull(product_id#5588) AND isnotnull(customer_id#5587))\n",
      "      :  :              +- Relation [order_id#5585,order_date#5586,customer_id#5587,product_id#5588,quantity#5589,unit_price#5590,region#5591] csv\n",
      "      :  +- RepartitionByExpression [product_id#5616], 4\n",
      "      :     +- Filter isnotnull(product_id#5616)\n",
      "      :        +- Relation [product_id#5616,product_name#5617,category#5618] csv\n",
      "      +- Repartition 4, true\n",
      "         +- Filter isnotnull(customer_id#5562)\n",
      "            +- Relation [customer_id#5562,customer_name#5563,region#5564] csv\n",
      "\n",
      "== Physical Plan ==\n",
      "AdaptiveSparkPlan isFinalPlan=false\n",
      "+- Project [order_id#5585, order_date#5586, customer_sales_id#6880, product_sales_id#6887, quantity#5589, unit_price#5590, product_id#5616, product_name#5617, category#5618, customer_id#5562, customer_name#5563, region#5564, (cast(unit_price#5590 as double) * cast(quantity#5589 as double)) AS TotalCost#6936]\n",
      "   +- Exchange RoundRobinPartitioning(4), REPARTITION_BY_NUM, [plan_id=17327]\n",
      "      +- SortMergeJoin [customer_sales_id#6880], [customer_id#5562], Inner\n",
      "         :- Sort [customer_sales_id#6880 ASC NULLS FIRST], false, 0\n",
      "         :  +- Exchange hashpartitioning(customer_sales_id#6880, 200), ENSURE_REQUIREMENTS, [plan_id=17322]\n",
      "         :     +- SortMergeJoin [product_sales_id#6887], [product_id#5616], Inner\n",
      "         :        :- Sort [product_sales_id#6887 ASC NULLS FIRST], false, 0\n",
      "         :        :  +- Exchange hashpartitioning(product_sales_id#6887, 200), REPARTITION_BY_NUM, [plan_id=17315]\n",
      "         :        :     +- Project [order_id#5585, order_date#5586, customer_sales_id#6880, product_id#5588 AS product_sales_id#6887, quantity#5589, unit_price#5590]\n",
      "         :        :        +- Exchange RoundRobinPartitioning(4), REPARTITION_BY_NUM, [plan_id=17292]\n",
      "         :        :           +- Project [order_id#5585, order_date#5586, customer_id#5587 AS customer_sales_id#6880, product_id#5588, quantity#5589, unit_price#5590]\n",
      "         :        :              +- Filter (isnotnull(product_id#5588) AND isnotnull(customer_id#5587))\n",
      "         :        :                 +- FileScan csv [order_id#5585,order_date#5586,customer_id#5587,product_id#5588,quantity#5589,unit_price#5590] Batched: false, DataFilters: [isnotnull(product_id#5588), isnotnull(customer_id#5587)], Format: CSV, Location: InMemoryFileIndex(1 paths)[file:/home/dominic/Desktop/pythonLearning/csvFiles/practice_Data/sales..., PartitionFilters: [], PushedFilters: [IsNotNull(product_id), IsNotNull(customer_id)], ReadSchema: struct<order_id:string,order_date:string,customer_id:string,product_id:string,quantity:string,uni...\n",
      "         :        +- Sort [product_id#5616 ASC NULLS FIRST], false, 0\n",
      "         :           +- Exchange hashpartitioning(product_id#5616, 200), REPARTITION_BY_NUM, [plan_id=17316]\n",
      "         :              +- Filter isnotnull(product_id#5616)\n",
      "         :                 +- FileScan csv [product_id#5616,product_name#5617,category#5618] Batched: false, DataFilters: [isnotnull(product_id#5616)], Format: CSV, Location: InMemoryFileIndex(1 paths)[file:/home/dominic/Desktop/pythonLearning/csvFiles/practice_Data/produ..., PartitionFilters: [], PushedFilters: [IsNotNull(product_id)], ReadSchema: struct<product_id:string,product_name:string,category:string>\n",
      "         +- Sort [customer_id#5562 ASC NULLS FIRST], false, 0\n",
      "            +- Exchange hashpartitioning(customer_id#5562, 200), ENSURE_REQUIREMENTS, [plan_id=17323]\n",
      "               +- Exchange RoundRobinPartitioning(4), REPARTITION_BY_NUM, [plan_id=17310]\n",
      "                  +- Filter isnotnull(customer_id#5562)\n",
      "                     +- FileScan csv [customer_id#5562,customer_name#5563,region#5564] Batched: false, DataFilters: [isnotnull(customer_id#5562)], Format: CSV, Location: InMemoryFileIndex(1 paths)[file:/home/dominic/Desktop/pythonLearning/csvFiles/practice_Data/custo..., PartitionFilters: [], PushedFilters: [IsNotNull(customer_id)], ReadSchema: struct<customer_id:string,customer_name:string,region:string>\n",
      "\n"
     ]
    }
   ],
   "source": [
    "joined_df.explain(True)"
   ]
  },
  {
   "cell_type": "code",
   "execution_count": 113,
   "metadata": {},
   "outputs": [
    {
     "name": "stdout",
     "output_type": "stream",
     "text": [
      "DataFrame Count:  24999\n",
      "+--------+----------+-----------------+----------------+--------+----------+----------+------------+-----------+-----------+-------------+------+\n",
      "|order_id|order_date|customer_sales_id|product_sales_id|quantity|unit_price|product_id|product_name|   category|customer_id|customer_name|region|\n",
      "+--------+----------+-----------------+----------------+--------+----------+----------+------------+-----------+-----------+-------------+------+\n",
      "| O000643|2023-06-21|            C0343|           P0074|       4|       641|     P0074|  Product_74|Electronics|      C0343| Customer_343|  West|\n",
      "| O074735|2023-06-29|            C0788|           P0140|       4|      1630|     P0140| Product_140|   Clothing|      C0788| Customer_788| South|\n",
      "| O091335|2023-03-14|            C0384|           P0149|       2|      1121|     P0149| Product_149|  Furniture|      C0384| Customer_384| South|\n",
      "| O064830|2023-04-01|            C0838|           P0072|       1|      1243|     P0072|  Product_72|      Books|      C0838| Customer_838|  West|\n",
      "| O086523|2023-06-17|            C0654|           P0068|       4|      1417|     P0068|  Product_68|  Furniture|      C0654| Customer_654| North|\n",
      "| O009531|2023-01-28|            C0325|           P0074|       1|      1834|     P0074|  Product_74|Electronics|      C0325| Customer_325|  East|\n",
      "| O046335|2023-05-26|            C0243|           P0044|       2|      1123|     P0044|  Product_44|Electronics|      C0243| Customer_243|  East|\n",
      "| O031665|2023-02-09|            C0469|           P0069|       1|      1971|     P0069|  Product_69|  Furniture|      C0469| Customer_469| South|\n",
      "| O050189|2023-03-07|            C0494|           P0081|       1|       735|     P0081|  Product_81|Electronics|      C0494| Customer_494|  West|\n",
      "| O054216|2023-05-16|            C0427|           P0067|       3|       330|     P0067|  Product_67|      Books|      C0427| Customer_427|  East|\n",
      "| O032516|2023-05-28|            C0927|           P0071|       3|       410|     P0071|  Product_71|      Books|      C0927| Customer_927| North|\n",
      "| O015128|2023-04-01|            C0154|           P0015|       4|       912|     P0015|  Product_15|      Books|      C0154| Customer_154|  East|\n",
      "| O056836|2023-01-15|            C0225|           P0148|       1|       104|     P0148| Product_148|Electronics|      C0225| Customer_225| South|\n",
      "| O023005|2023-03-26|            C0379|           P0057|       3|      1077|     P0057|  Product_57|      Books|      C0379| Customer_379|  West|\n",
      "| O092094|2023-05-14|            C0702|           P0025|       4|      1613|     P0025|  Product_25|   Clothing|      C0702| Customer_702|  West|\n",
      "| O050565|2023-03-23|            C0548|           P0099|       3|      1374|     P0099|  Product_99|      Books|      C0548| Customer_548| North|\n",
      "| O069945|2023-06-09|            C0125|           P0198|       4|       958|     P0198| Product_198|Electronics|      C0125| Customer_125|  West|\n",
      "| O060506|2023-04-08|            C0379|           P0152|       3|       606|     P0152| Product_152|  Furniture|      C0379| Customer_379|  West|\n",
      "| O012243|2023-05-19|            C0494|           P0165|       2|      1987|     P0165| Product_165|  Furniture|      C0494| Customer_494|  West|\n",
      "| O080946|2023-04-07|            C0861|           P0090|       2|      1496|     P0090|  Product_90|Electronics|      C0861| Customer_861| South|\n",
      "+--------+----------+-----------------+----------------+--------+----------+----------+------------+-----------+-----------+-------------+------+\n",
      "only showing top 20 rows\n",
      "\n"
     ]
    }
   ],
   "source": [
    "df = spark.read.parquet(\"file:////home/dominic/Desktop/pythonLearning/csvFiles/practice_Data/joined_data.parquet/part-00000-78e92223-8b57-49eb-867b-12eafcb2c87c-c000.snappy.parquet\")\n",
    "print(\"DataFrame Count: \", df.count())\n",
    "df.show()"
   ]
  }
 ],
 "metadata": {
  "kernelspec": {
   "display_name": "Python 3",
   "language": "python",
   "name": "python3"
  },
  "language_info": {
   "codemirror_mode": {
    "name": "ipython",
    "version": 3
   },
   "file_extension": ".py",
   "mimetype": "text/x-python",
   "name": "python",
   "nbconvert_exporter": "python",
   "pygments_lexer": "ipython3",
   "version": "3.10.12"
  }
 },
 "nbformat": 4,
 "nbformat_minor": 2
}
